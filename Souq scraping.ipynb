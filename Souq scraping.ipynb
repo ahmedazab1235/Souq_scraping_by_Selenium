{
 "cells": [
  {
   "cell_type": "code",
   "execution_count": null,
   "id": "857747cb",
   "metadata": {},
   "outputs": [],
   "source": [
    "import pandas as pd\n",
    "from selenium import webdriver\n",
    "import time "
   ]
  },
  {
   "cell_type": "code",
   "execution_count": null,
   "id": "8a3ca320",
   "metadata": {},
   "outputs": [],
   "source": [
    "path = \"/Users/ahmed/Downloads/chromedriver\"\n",
    "\n",
    "driver = webdriver.Chrome(path)\n",
    "\n",
    "p = []\n",
    "\n",
    "c = []\n",
    "\n",
    "condition = True\n",
    "\n",
    "driver.get(\"https://egypt.souq.com/eg-en/mobile-phone/l/?sortby=sr\")\n",
    "\n",
    "while condition:\n",
    "    driver.execute_script(\"window.scrollTo(0,6800)\")\n",
    "\n",
    "    time.sleep(2)\n",
    "\n",
    "    driver.execute_script(\"window.scrollTo(0,13800)\")\n",
    "    \n",
    "    products = driver.find_elements_by_xpath(\"//h1[@class='itemTitle']\")\n",
    "\n",
    "    Prices = driver.find_elements_by_xpath(\"//h3[@class='itemPrice']\")\n",
    "\n",
    "    for product in products:\n",
    "        p.append(product.text)\n",
    "\n",
    "    for price in Prices:\n",
    "        c.append(price.text)\n",
    "\n",
    "    try:\n",
    "        driver.find_element_by_link_text('Next').click()\n",
    "        \n",
    "        time.sleep(5)\n",
    "    \n",
    "    except:\n",
    "        condition = False\n",
    "    "
   ]
  },
  {
   "cell_type": "code",
   "execution_count": null,
   "id": "5ee87393",
   "metadata": {},
   "outputs": [],
   "source": [
    "df = pd.DataFrame(list(zip(p, c)),\n",
    "               columns =['product', 'price'])\n"
   ]
  },
  {
   "cell_type": "code",
   "execution_count": null,
   "id": "ffc67f65",
   "metadata": {},
   "outputs": [],
   "source": [
    "df.to_csv(\"/Users/ahmed/Desktop/souq_scrap/souq_scrap.csv\")\n"
   ]
  },
  {
   "cell_type": "code",
   "execution_count": null,
   "id": "1edb536f",
   "metadata": {},
   "outputs": [],
   "source": [
    "df\n"
   ]
  },
  {
   "cell_type": "code",
   "execution_count": null,
   "id": "a69786ba",
   "metadata": {},
   "outputs": [],
   "source": []
  }
 ],
 "metadata": {
  "kernelspec": {
   "display_name": "Python 3",
   "language": "python",
   "name": "python3"
  }
 },
 "nbformat": 4,
 "nbformat_minor": 5
}
